{
  "nbformat": 4,
  "nbformat_minor": 0,
  "metadata": {
    "accelerator": "GPU",
    "colab": {
      "name": "chess_piece_classification.ipynb",
      "provenance": [],
      "collapsed_sections": []
    },
    "kernelspec": {
      "display_name": "Python 3",
      "name": "python3"
    },
    "language_info": {
      "name": "python"
    }
  },
  "cells": [
    {
      "cell_type": "code",
      "metadata": {
        "colab": {
          "base_uri": "https://localhost:8080/"
        },
        "id": "5pPdXdaJ20PH",
        "outputId": "8a8f4fdd-eeb1-42c1-b294-6ecb3a21a168"
      },
      "source": [
        "%tensorflow_version 2.x\n",
        "import tensorflow as tf\n",
        "device_name = tf.test.gpu_device_name()\n",
        "if device_name != '/device:GPU:0':\n",
        "  raise SystemError('GPU device not found')\n",
        "print('Found GPU at: {}'.format(device_name))"
      ],
      "execution_count": 1,
      "outputs": [
        {
          "output_type": "stream",
          "name": "stdout",
          "text": [
            "Found GPU at: /device:GPU:0\n"
          ]
        }
      ]
    },
    {
      "cell_type": "code",
      "metadata": {
        "colab": {
          "base_uri": "https://localhost:8080/"
        },
        "id": "xZvY-kxWj97m",
        "outputId": "18b182fe-fb68-4a18-fad3-bad8e425370a"
      },
      "source": [
        "from google.colab import drive\n",
        "drive.mount('/content/drive')"
      ],
      "execution_count": 2,
      "outputs": [
        {
          "output_type": "stream",
          "name": "stdout",
          "text": [
            "Mounted at /content/drive\n"
          ]
        }
      ]
    },
    {
      "cell_type": "code",
      "metadata": {
        "id": "0mzl1TOdkbPD"
      },
      "source": [
        "import numpy as np\n",
        "from tensorflow import keras\n",
        "from tensorflow.keras import layers\n",
        "folder = '/content/drive/MyDrive/chess_pieces'\n",
        "image_size = (224, 224)\n",
        "batch_size = 32\n",
        "from keras.preprocessing.image import ImageDataGenerator"
      ],
      "execution_count": 3,
      "outputs": []
    },
    {
      "cell_type": "code",
      "metadata": {
        "colab": {
          "base_uri": "https://localhost:8080/"
        },
        "id": "sb2lK-JHjvmr",
        "outputId": "38953d7e-54ba-4fec-b46d-8bfb2c5fed31"
      },
      "source": [
        "datagen = ImageDataGenerator(\n",
        "        rotation_range=5,\n",
        "        # width_shift_range=0.1,\n",
        "        # height_shift_range=0.1,\n",
        "        rescale=1./255,\n",
        "        horizontal_flip=True,\n",
        "        fill_mode='nearest')\n",
        "\n",
        "test_datagen = ImageDataGenerator(rescale=1./255)\n",
        "train_gen = datagen.flow_from_directory(\n",
        "    folder + '/train',\n",
        "    target_size = image_size,\n",
        "    batch_size = batch_size,\n",
        "    class_mode = 'categorical',\n",
        "    color_mode = 'rgb',\n",
        "    shuffle=True  \n",
        ")\n",
        "\n",
        "test_gen = test_datagen.flow_from_directory(\n",
        "    folder + '/test',\n",
        "    target_size = image_size,\n",
        "    batch_size = batch_size,\n",
        "    class_mode = 'categorical',\n",
        "    color_mode = 'rgb',\n",
        "    shuffle=False \n",
        ")"
      ],
      "execution_count": 4,
      "outputs": [
        {
          "output_type": "stream",
          "name": "stdout",
          "text": [
            "Found 1182 images belonging to 13 classes.\n",
            "Found 96 images belonging to 13 classes.\n"
          ]
        }
      ]
    },
    {
      "cell_type": "code",
      "metadata": {
        "colab": {
          "base_uri": "https://localhost:8080/"
        },
        "id": "OxtriS33mfei",
        "outputId": "6c620bec-4d21-4b20-82b7-2e382b2d6d06"
      },
      "source": [
        "from keras.applications.vgg16 import VGG16\n",
        "from keras.applications.imagenet_utils import decode_predictions\n",
        "\n",
        "model = VGG16(weights='imagenet')\n",
        "model.summary()"
      ],
      "execution_count": 5,
      "outputs": [
        {
          "output_type": "stream",
          "name": "stdout",
          "text": [
            "Downloading data from https://storage.googleapis.com/tensorflow/keras-applications/vgg16/vgg16_weights_tf_dim_ordering_tf_kernels.h5\n",
            "553467904/553467096 [==============================] - 17s 0us/step\n",
            "553476096/553467096 [==============================] - 17s 0us/step\n",
            "Model: \"vgg16\"\n",
            "_________________________________________________________________\n",
            " Layer (type)                Output Shape              Param #   \n",
            "=================================================================\n",
            " input_1 (InputLayer)        [(None, 224, 224, 3)]     0         \n",
            "                                                                 \n",
            " block1_conv1 (Conv2D)       (None, 224, 224, 64)      1792      \n",
            "                                                                 \n",
            " block1_conv2 (Conv2D)       (None, 224, 224, 64)      36928     \n",
            "                                                                 \n",
            " block1_pool (MaxPooling2D)  (None, 112, 112, 64)      0         \n",
            "                                                                 \n",
            " block2_conv1 (Conv2D)       (None, 112, 112, 128)     73856     \n",
            "                                                                 \n",
            " block2_conv2 (Conv2D)       (None, 112, 112, 128)     147584    \n",
            "                                                                 \n",
            " block2_pool (MaxPooling2D)  (None, 56, 56, 128)       0         \n",
            "                                                                 \n",
            " block3_conv1 (Conv2D)       (None, 56, 56, 256)       295168    \n",
            "                                                                 \n",
            " block3_conv2 (Conv2D)       (None, 56, 56, 256)       590080    \n",
            "                                                                 \n",
            " block3_conv3 (Conv2D)       (None, 56, 56, 256)       590080    \n",
            "                                                                 \n",
            " block3_pool (MaxPooling2D)  (None, 28, 28, 256)       0         \n",
            "                                                                 \n",
            " block4_conv1 (Conv2D)       (None, 28, 28, 512)       1180160   \n",
            "                                                                 \n",
            " block4_conv2 (Conv2D)       (None, 28, 28, 512)       2359808   \n",
            "                                                                 \n",
            " block4_conv3 (Conv2D)       (None, 28, 28, 512)       2359808   \n",
            "                                                                 \n",
            " block4_pool (MaxPooling2D)  (None, 14, 14, 512)       0         \n",
            "                                                                 \n",
            " block5_conv1 (Conv2D)       (None, 14, 14, 512)       2359808   \n",
            "                                                                 \n",
            " block5_conv2 (Conv2D)       (None, 14, 14, 512)       2359808   \n",
            "                                                                 \n",
            " block5_conv3 (Conv2D)       (None, 14, 14, 512)       2359808   \n",
            "                                                                 \n",
            " block5_pool (MaxPooling2D)  (None, 7, 7, 512)         0         \n",
            "                                                                 \n",
            " flatten (Flatten)           (None, 25088)             0         \n",
            "                                                                 \n",
            " fc1 (Dense)                 (None, 4096)              102764544 \n",
            "                                                                 \n",
            " fc2 (Dense)                 (None, 4096)              16781312  \n",
            "                                                                 \n",
            " predictions (Dense)         (None, 1000)              4097000   \n",
            "                                                                 \n",
            "=================================================================\n",
            "Total params: 138,357,544\n",
            "Trainable params: 138,357,544\n",
            "Non-trainable params: 0\n",
            "_________________________________________________________________\n"
          ]
        }
      ]
    },
    {
      "cell_type": "code",
      "metadata": {
        "id": "21ozpdE31s70"
      },
      "source": [
        "from keras.models import Sequential\n",
        "from keras.layers import Dense, Conv2D, MaxPooling2D, Flatten\n",
        "from keras.models import Model"
      ],
      "execution_count": 6,
      "outputs": []
    },
    {
      "cell_type": "code",
      "metadata": {
        "colab": {
          "base_uri": "https://localhost:8080/"
        },
        "id": "4S4g7Iu7mf3o",
        "outputId": "72d23e95-3f54-4bfd-accb-38c94bfdd729"
      },
      "source": [
        "epochs = 10\n",
        "with tf.device('/device:GPU:0'):\n",
        "  base_model = VGG16(weights='imagenet', include_top=False, input_shape=(224,224,3))\n",
        " \n",
        "  # Freeze convolutional layers\n",
        "  for layer in base_model.layers:\n",
        "      layer.trainable = False\n",
        "\n",
        "  # Establish new fully connected block\n",
        "  x = base_model.output\n",
        "  x = Flatten()(x)  # flatten from convolution tensor output  \n",
        "  x = Dense(500, activation='relu')(x) # number of layers and units are hyperparameters, as usual\n",
        "  x = Dense(500, activation='relu')(x)\n",
        "  predictions = Dense(13, activation='softmax')(x) # should match # of classes predicted\n",
        "\n",
        "  # this is the model we will train\n",
        "  model = Model(inputs=base_model.input, outputs=predictions)\n",
        "  model.compile(optimizer='adam', loss='categorical_crossentropy', metrics=['categorical_accuracy'])\n",
        "  history = model.fit(\n",
        "      train_gen, \n",
        "      epochs=epochs,\n",
        "      verbose = 1,\n",
        "      validation_data=test_gen\n",
        "      )\n",
        "model.save_weights('model_VGG16.h5')"
      ],
      "execution_count": 7,
      "outputs": [
        {
          "output_type": "stream",
          "name": "stdout",
          "text": [
            "Downloading data from https://storage.googleapis.com/tensorflow/keras-applications/vgg16/vgg16_weights_tf_dim_ordering_tf_kernels_notop.h5\n",
            "58892288/58889256 [==============================] - 1s 0us/step\n",
            "58900480/58889256 [==============================] - 1s 0us/step\n",
            "Epoch 1/10\n",
            "37/37 [==============================] - 842s 22s/step - loss: 0.9383 - categorical_accuracy: 0.7775 - val_loss: 0.3109 - val_categorical_accuracy: 0.9062\n",
            "Epoch 2/10\n",
            "37/37 [==============================] - 18s 473ms/step - loss: 0.1570 - categorical_accuracy: 0.9594 - val_loss: 0.2522 - val_categorical_accuracy: 0.9167\n",
            "Epoch 3/10\n",
            "37/37 [==============================] - 18s 475ms/step - loss: 0.1041 - categorical_accuracy: 0.9729 - val_loss: 0.1847 - val_categorical_accuracy: 0.9583\n",
            "Epoch 4/10\n",
            "37/37 [==============================] - 18s 469ms/step - loss: 0.0565 - categorical_accuracy: 0.9839 - val_loss: 0.1230 - val_categorical_accuracy: 0.9479\n",
            "Epoch 5/10\n",
            "37/37 [==============================] - 17s 469ms/step - loss: 0.0338 - categorical_accuracy: 0.9932 - val_loss: 0.0552 - val_categorical_accuracy: 0.9896\n",
            "Epoch 6/10\n",
            "37/37 [==============================] - 17s 467ms/step - loss: 0.0238 - categorical_accuracy: 0.9924 - val_loss: 0.0377 - val_categorical_accuracy: 0.9896\n",
            "Epoch 7/10\n",
            "37/37 [==============================] - 18s 471ms/step - loss: 0.0043 - categorical_accuracy: 1.0000 - val_loss: 0.0257 - val_categorical_accuracy: 1.0000\n",
            "Epoch 8/10\n",
            "37/37 [==============================] - 18s 470ms/step - loss: 0.0050 - categorical_accuracy: 1.0000 - val_loss: 0.1279 - val_categorical_accuracy: 0.9583\n",
            "Epoch 9/10\n",
            "37/37 [==============================] - 17s 469ms/step - loss: 0.0528 - categorical_accuracy: 0.9831 - val_loss: 0.0854 - val_categorical_accuracy: 0.9688\n",
            "Epoch 10/10\n",
            "37/37 [==============================] - 18s 473ms/step - loss: 0.0436 - categorical_accuracy: 0.9873 - val_loss: 0.1542 - val_categorical_accuracy: 0.9479\n"
          ]
        }
      ]
    },
    {
      "cell_type": "code",
      "metadata": {
        "colab": {
          "base_uri": "https://localhost:8080/"
        },
        "id": "zG5EvIEPxJfP",
        "outputId": "898d25ea-c96f-481c-bb28-5871140516b6"
      },
      "source": [
        "model.summary()"
      ],
      "execution_count": 8,
      "outputs": [
        {
          "output_type": "stream",
          "name": "stdout",
          "text": [
            "Model: \"model\"\n",
            "_________________________________________________________________\n",
            " Layer (type)                Output Shape              Param #   \n",
            "=================================================================\n",
            " input_2 (InputLayer)        [(None, 224, 224, 3)]     0         \n",
            "                                                                 \n",
            " block1_conv1 (Conv2D)       (None, 224, 224, 64)      1792      \n",
            "                                                                 \n",
            " block1_conv2 (Conv2D)       (None, 224, 224, 64)      36928     \n",
            "                                                                 \n",
            " block1_pool (MaxPooling2D)  (None, 112, 112, 64)      0         \n",
            "                                                                 \n",
            " block2_conv1 (Conv2D)       (None, 112, 112, 128)     73856     \n",
            "                                                                 \n",
            " block2_conv2 (Conv2D)       (None, 112, 112, 128)     147584    \n",
            "                                                                 \n",
            " block2_pool (MaxPooling2D)  (None, 56, 56, 128)       0         \n",
            "                                                                 \n",
            " block3_conv1 (Conv2D)       (None, 56, 56, 256)       295168    \n",
            "                                                                 \n",
            " block3_conv2 (Conv2D)       (None, 56, 56, 256)       590080    \n",
            "                                                                 \n",
            " block3_conv3 (Conv2D)       (None, 56, 56, 256)       590080    \n",
            "                                                                 \n",
            " block3_pool (MaxPooling2D)  (None, 28, 28, 256)       0         \n",
            "                                                                 \n",
            " block4_conv1 (Conv2D)       (None, 28, 28, 512)       1180160   \n",
            "                                                                 \n",
            " block4_conv2 (Conv2D)       (None, 28, 28, 512)       2359808   \n",
            "                                                                 \n",
            " block4_conv3 (Conv2D)       (None, 28, 28, 512)       2359808   \n",
            "                                                                 \n",
            " block4_pool (MaxPooling2D)  (None, 14, 14, 512)       0         \n",
            "                                                                 \n",
            " block5_conv1 (Conv2D)       (None, 14, 14, 512)       2359808   \n",
            "                                                                 \n",
            " block5_conv2 (Conv2D)       (None, 14, 14, 512)       2359808   \n",
            "                                                                 \n",
            " block5_conv3 (Conv2D)       (None, 14, 14, 512)       2359808   \n",
            "                                                                 \n",
            " block5_pool (MaxPooling2D)  (None, 7, 7, 512)         0         \n",
            "                                                                 \n",
            " flatten (Flatten)           (None, 25088)             0         \n",
            "                                                                 \n",
            " dense (Dense)               (None, 500)               12544500  \n",
            "                                                                 \n",
            " dense_1 (Dense)             (None, 500)               250500    \n",
            "                                                                 \n",
            " dense_2 (Dense)             (None, 13)                6513      \n",
            "                                                                 \n",
            "=================================================================\n",
            "Total params: 27,516,201\n",
            "Trainable params: 12,801,513\n",
            "Non-trainable params: 14,714,688\n",
            "_________________________________________________________________\n"
          ]
        }
      ]
    },
    {
      "cell_type": "code",
      "metadata": {
        "colab": {
          "base_uri": "https://localhost:8080/"
        },
        "id": "-JROclRoxix4",
        "outputId": "3d7b9b18-dd0b-4493-d5ce-79de5a8dc566"
      },
      "source": [
        "model.save('piece_classifier')"
      ],
      "execution_count": 9,
      "outputs": [
        {
          "output_type": "stream",
          "name": "stdout",
          "text": [
            "INFO:tensorflow:Assets written to: piece_classifier/assets\n"
          ]
        }
      ]
    },
    {
      "cell_type": "code",
      "metadata": {
        "colab": {
          "base_uri": "https://localhost:8080/",
          "height": 312
        },
        "id": "BEL9THdwmgXw",
        "outputId": "f186c082-e31a-4fa2-902e-01b7494df635"
      },
      "source": [
        "import seaborn as sn\n",
        "import matplotlib.pyplot as plt\n",
        "import pandas as pd\n",
        "\n",
        "plt.plot(history.history['categorical_accuracy'], 'ko')\n",
        "plt.plot(history.history['val_categorical_accuracy'], 'b')\n",
        "\n",
        "plt.title('Accuracy vs Training Epoch')\n",
        "plt.xlabel('Epoch')\n",
        "plt.ylabel('Accuracy')\n",
        "plt.legend(['Train', 'Validation'])"
      ],
      "execution_count": 11,
      "outputs": [
        {
          "output_type": "execute_result",
          "data": {
            "text/plain": [
              "<matplotlib.legend.Legend at 0x7f261d328390>"
            ]
          },
          "metadata": {},
          "execution_count": 11
        },
        {
          "output_type": "display_data",
          "data": {
            "image/png": "[encoded data removed]",
            "text/plain": [
              "<Figure size 432x288 with 1 Axes>"
            ]
          },
          "metadata": {
            "needs_background": "light"
          }
        }
      ]
    },
    {
      "cell_type": "code",
      "metadata": {
        "colab": {
          "base_uri": "https://localhost:8080/",
          "height": 873
        },
        "id": "t_awuWrFmgdc",
        "outputId": "3e9f0ab2-daa7-4fa1-b844-d142294b01f8"
      },
      "source": [
        "from sklearn.metrics import classification_report, confusion_matrix\n",
        "\n",
        "target_names = ['BB', 'BK', 'BN', 'BP', 'BQ', 'BR', 'Empty', 'WB', 'WK', 'WN', 'WP', 'WQ', 'WR']\n",
        "\n",
        "test_gen.reset()\n",
        "Y_pred = model.predict(test_gen)\n",
        "classes = test_gen.classes[test_gen.index_array]\n",
        "y_pred = np.argmax(Y_pred, axis= -1)\n",
        "print(sum(y_pred==classes)/64)\n",
        "\n",
        "\n",
        "data = confusion_matrix(classes, y_pred)\n",
        "df_cm = pd.DataFrame(data, columns=target_names, index = target_names)\n",
        "df_cm.index.name = 'Actual'\n",
        "df_cm.columns.name = 'Predicted'\n",
        "plt.figure(figsize = (20,14))\n",
        "sn.set(font_scale=1.4)#for label size\n",
        "sn.heatmap(df_cm, cmap=\"Blues\", annot=True,annot_kws={\"size\": 16})# font size"
      ],
      "execution_count": 12,
      "outputs": [
        {
          "output_type": "stream",
          "name": "stdout",
          "text": [
            "1.421875\n"
          ]
        },
        {
          "output_type": "execute_result",
          "data": {
            "text/plain": [
              "<matplotlib.axes._subplots.AxesSubplot at 0x7f261caf9810>"
            ]
          },
          "metadata": {},
          "execution_count": 12
        },
        {
          "output_type": "display_data",
          "data": {
            "image/png": "[encoded data removed]",
            "text/plain": [
              "<Figure size 1440x1008 with 2 Axes>"
            ]
          },
          "metadata": {
            "needs_background": "light"
          }
        }
      ]
    }
  ]
}